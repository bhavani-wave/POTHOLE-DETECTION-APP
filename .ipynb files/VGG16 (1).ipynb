{
  "nbformat": 4,
  "nbformat_minor": 0,
  "metadata": {
    "colab": {
      "provenance": []
    },
    "kernelspec": {
      "name": "python3",
      "display_name": "Python 3"
    },
    "language_info": {
      "name": "python"
    }
  },
  "cells": [
    {
      "cell_type": "code",
      "execution_count": null,
      "metadata": {
        "id": "C25zjCFb6-UJ"
      },
      "outputs": [],
      "source": [
        "import tensorflow as tf\n",
        "from tensorflow import keras\n",
        "from tensorflow.keras.layers import Input, Flatten, Dense\n",
        "from tensorflow.keras.models import Model\n",
        "from tensorflow.keras.applications.vgg16 import VGG16, preprocess_input\n",
        "from tensorflow.keras.preprocessing.image import ImageDataGenerator\n",
        "\n",
        "import numpy as np\n",
        "import pandas as pd\n",
        "import matplotlib.pyplot as plt\n",
        "import os "
      ]
    },
    {
      "cell_type": "code",
      "source": [
        "from google.colab import drive\n",
        "drive.mount('/content/drive')"
      ],
      "metadata": {
        "colab": {
          "base_uri": "https://localhost:8080/"
        },
        "id": "dKSXMzsU8JoW",
        "outputId": "5cd6401b-0a13-4107-b8c5-7fcf30922fda"
      },
      "execution_count": null,
      "outputs": [
        {
          "output_type": "stream",
          "name": "stdout",
          "text": [
            "Mounted at /content/drive\n"
          ]
        }
      ]
    },
    {
      "cell_type": "code",
      "source": [
        "# Set the path to the data directory\n",
        "data_dir = \"/content/drive/MyDrive/archive\""
      ],
      "metadata": {
        "id": "gJAWK0MV7FYh"
      },
      "execution_count": null,
      "outputs": []
    },
    {
      "cell_type": "code",
      "source": [
        "# Set the image size\n",
        "IMG_SIZE = 128"
      ],
      "metadata": {
        "id": "p4obdV9r7F6n"
      },
      "execution_count": null,
      "outputs": []
    },
    {
      "cell_type": "code",
      "source": [
        "# Set the batch size\n",
        "batch_size = 32"
      ],
      "metadata": {
        "id": "CJH20S9y7K6F"
      },
      "execution_count": null,
      "outputs": []
    },
    {
      "cell_type": "code",
      "source": [
        "# Create a data generator for training data\n",
        "train_datagen = ImageDataGenerator(\n",
        "    rescale = 1./255,\n",
        "    shear_range = 0.2,\n",
        "    zoom_range = 0.2,\n",
        "    horizontal_flip = True,\n",
        "    validation_split = 0.2\n",
        ")"
      ],
      "metadata": {
        "id": "CiMPFYN-7N84"
      },
      "execution_count": null,
      "outputs": []
    },
    {
      "cell_type": "code",
      "source": [
        "# Create a data generator for test data\n",
        "test_datagen = ImageDataGenerator(\n",
        "    rescale = 1./255\n",
        ")"
      ],
      "metadata": {
        "id": "Mbq-h3kr7RA8"
      },
      "execution_count": null,
      "outputs": []
    },
    {
      "cell_type": "code",
      "source": [
        "# Load the training data\n",
        "train_data = train_datagen.flow_from_directory(\n",
        "    data_dir,\n",
        "    target_size = (128, 128),\n",
        "    batch_size = 32,\n",
        "    class_mode = \"categorical\",\n",
        "    subset = \"training\"\n",
        ")"
      ],
      "metadata": {
        "colab": {
          "base_uri": "https://localhost:8080/"
        },
        "id": "dvPEuzhv7Usz",
        "outputId": "6c8deca8-4ae1-4bee-9810-d493bdad822d"
      },
      "execution_count": null,
      "outputs": [
        {
          "output_type": "stream",
          "name": "stdout",
          "text": [
            "Found 546 images belonging to 2 classes.\n"
          ]
        }
      ]
    },
    {
      "cell_type": "code",
      "source": [
        "# Load the validation data\n",
        "val_data = train_datagen.flow_from_directory(\n",
        "    data_dir,\n",
        "    target_size = (128, 128),\n",
        "    batch_size = 32,\n",
        "    class_mode = \"categorical\",\n",
        "    subset = \"validation\"\n",
        ")"
      ],
      "metadata": {
        "colab": {
          "base_uri": "https://localhost:8080/"
        },
        "id": "r1t3VdHy7Y4P",
        "outputId": "2171d20c-259e-4400-8b50-6c1a574f4416"
      },
      "execution_count": null,
      "outputs": [
        {
          "output_type": "stream",
          "name": "stdout",
          "text": [
            "Found 135 images belonging to 2 classes.\n"
          ]
        }
      ]
    },
    {
      "cell_type": "code",
      "source": [
        "# Load the test data\n",
        "test_data = test_datagen.flow_from_directory(\n",
        "    data_dir,\n",
        "    target_size = (128, 128),\n",
        "    batch_size = 1,\n",
        "    shuffle = False,\n",
        "    class_mode = \"categorical\"\n",
        ")"
      ],
      "metadata": {
        "colab": {
          "base_uri": "https://localhost:8080/"
        },
        "id": "DkReT6Em7b19",
        "outputId": "09b67d07-f0f6-47fa-bd72-00f9ee52bb3c"
      },
      "execution_count": null,
      "outputs": [
        {
          "output_type": "stream",
          "name": "stdout",
          "text": [
            "Found 681 images belonging to 2 classes.\n"
          ]
        }
      ]
    },
    {
      "cell_type": "code",
      "source": [
        "# Load the VGG16 model\n",
        "vgg = VGG16(input_shape = (128,128, 3), weights = \"imagenet\", include_top = False)"
      ],
      "metadata": {
        "id": "sLoOYLYu7iLU"
      },
      "execution_count": null,
      "outputs": []
    },
    {
      "cell_type": "code",
      "source": [
        "# Freeze the layers\n",
        "for layer in vgg.layers:\n",
        "    layer.trainable = False"
      ],
      "metadata": {
        "id": "tcN4Sx-s7i6i"
      },
      "execution_count": null,
      "outputs": []
    },
    {
      "cell_type": "code",
      "source": [
        "# Add a flatten layer\n",
        "x = Flatten()(vgg.output)\n",
        "\n",
        "# Add a dense layer with 1024 units and ReLU activation\n",
        "x = Dense(1024, activation = \"relu\")(x)\n",
        "\n",
        "# Add a dropout layer with a rate of 0.5\n",
        "x = keras.layers.Dropout(0.5)(x)\n",
        "\n",
        "# Add a dense layer with the number of classes and softmax activation\n",
        "predictions = Dense(train_data.num_classes, activation = \"softmax\")(x)"
      ],
      "metadata": {
        "id": "xmcXSyCO7rVh"
      },
      "execution_count": null,
      "outputs": []
    },
    {
      "cell_type": "code",
      "source": [
        "# Create a model object\n",
        "model = Model(inputs = vgg.input, outputs = predictions)"
      ],
      "metadata": {
        "id": "223_VTDQ7upH"
      },
      "execution_count": null,
      "outputs": []
    },
    {
      "cell_type": "code",
      "source": [
        "# Compile the model\n",
        "model.compile(optimizer = \"adam\", loss = \"categorical_crossentropy\", metrics = [\"accuracy\"])"
      ],
      "metadata": {
        "id": "DAG1-PXu7xtC"
      },
      "execution_count": null,
      "outputs": []
    },
    {
      "cell_type": "code",
      "source": [
        "# Print the model summary\n",
        "model.summary()"
      ],
      "metadata": {
        "colab": {
          "base_uri": "https://localhost:8080/"
        },
        "id": "Lwu_D1GE70IN",
        "outputId": "8d6831d2-e693-450e-ce0c-2893f0acaa82"
      },
      "execution_count": null,
      "outputs": [
        {
          "output_type": "stream",
          "name": "stdout",
          "text": [
            "Model: \"model\"\n",
            "_________________________________________________________________\n",
            " Layer (type)                Output Shape              Param #   \n",
            "=================================================================\n",
            " input_1 (InputLayer)        [(None, 128, 128, 3)]     0         \n",
            "                                                                 \n",
            " block1_conv1 (Conv2D)       (None, 128, 128, 64)      1792      \n",
            "                                                                 \n",
            " block1_conv2 (Conv2D)       (None, 128, 128, 64)      36928     \n",
            "                                                                 \n",
            " block1_pool (MaxPooling2D)  (None, 64, 64, 64)        0         \n",
            "                                                                 \n",
            " block2_conv1 (Conv2D)       (None, 64, 64, 128)       73856     \n",
            "                                                                 \n",
            " block2_conv2 (Conv2D)       (None, 64, 64, 128)       147584    \n",
            "                                                                 \n",
            " block2_pool (MaxPooling2D)  (None, 32, 32, 128)       0         \n",
            "                                                                 \n",
            " block3_conv1 (Conv2D)       (None, 32, 32, 256)       295168    \n",
            "                                                                 \n",
            " block3_conv2 (Conv2D)       (None, 32, 32, 256)       590080    \n",
            "                                                                 \n",
            " block3_conv3 (Conv2D)       (None, 32, 32, 256)       590080    \n",
            "                                                                 \n",
            " block3_pool (MaxPooling2D)  (None, 16, 16, 256)       0         \n",
            "                                                                 \n",
            " block4_conv1 (Conv2D)       (None, 16, 16, 512)       1180160   \n",
            "                                                                 \n",
            " block4_conv2 (Conv2D)       (None, 16, 16, 512)       2359808   \n",
            "                                                                 \n",
            " block4_conv3 (Conv2D)       (None, 16, 16, 512)       2359808   \n",
            "                                                                 \n",
            " block4_pool (MaxPooling2D)  (None, 8, 8, 512)         0         \n",
            "                                                                 \n",
            " block5_conv1 (Conv2D)       (None, 8, 8, 512)         2359808   \n",
            "                                                                 \n",
            " block5_conv2 (Conv2D)       (None, 8, 8, 512)         2359808   \n",
            "                                                                 \n",
            " block5_conv3 (Conv2D)       (None, 8, 8, 512)         2359808   \n",
            "                                                                 \n",
            " block5_pool (MaxPooling2D)  (None, 4, 4, 512)         0         \n",
            "                                                                 \n",
            " flatten (Flatten)           (None, 8192)              0         \n",
            "                                                                 \n",
            " dense (Dense)               (None, 1024)              8389632   \n",
            "                                                                 \n",
            " dropout (Dropout)           (None, 1024)              0         \n",
            "                                                                 \n",
            " dense_1 (Dense)             (None, 2)                 2050      \n",
            "                                                                 \n",
            "=================================================================\n",
            "Total params: 23,106,370\n",
            "Trainable params: 8,391,682\n",
            "Non-trainable params: 14,714,688\n",
            "_________________________________________________________________\n"
          ]
        }
      ]
    },
    {
      "cell_type": "code",
      "source": [
        "# Train the model\n",
        "history = model.fit(\n",
        "    train_data,\n",
        "    validation_data = val_data,\n",
        "    epochs = 10,\n",
        "    verbose = 1\n",
        ")"
      ],
      "metadata": {
        "colab": {
          "base_uri": "https://localhost:8080/"
        },
        "id": "ML1k4lTG70oX",
        "outputId": "de59e567-9b67-490d-880c-78f84809218b"
      },
      "execution_count": null,
      "outputs": [
        {
          "output_type": "stream",
          "name": "stdout",
          "text": [
            "Epoch 1/10\n",
            "18/18 [==============================] - 202s 11s/step - loss: 1.3400 - accuracy: 0.7582 - val_loss: 0.2044 - val_accuracy: 0.9407\n",
            "Epoch 2/10\n",
            "18/18 [==============================] - 166s 9s/step - loss: 0.1368 - accuracy: 0.9432 - val_loss: 0.1530 - val_accuracy: 0.9630\n",
            "Epoch 3/10\n",
            "18/18 [==============================] - 171s 9s/step - loss: 0.1163 - accuracy: 0.9579 - val_loss: 0.1201 - val_accuracy: 0.9704\n",
            "Epoch 4/10\n",
            "18/18 [==============================] - 169s 9s/step - loss: 0.0802 - accuracy: 0.9707 - val_loss: 0.1040 - val_accuracy: 0.9556\n",
            "Epoch 5/10\n",
            "18/18 [==============================] - 169s 9s/step - loss: 0.0615 - accuracy: 0.9853 - val_loss: 0.1259 - val_accuracy: 0.9556\n",
            "Epoch 6/10\n",
            "18/18 [==============================] - 161s 9s/step - loss: 0.0766 - accuracy: 0.9762 - val_loss: 0.1914 - val_accuracy: 0.9407\n",
            "Epoch 7/10\n",
            "18/18 [==============================] - 171s 10s/step - loss: 0.0942 - accuracy: 0.9689 - val_loss: 0.2268 - val_accuracy: 0.9333\n",
            "Epoch 8/10\n",
            "18/18 [==============================] - 160s 9s/step - loss: 0.1157 - accuracy: 0.9524 - val_loss: 0.1820 - val_accuracy: 0.9556\n",
            "Epoch 9/10\n",
            "18/18 [==============================] - 174s 10s/step - loss: 0.1042 - accuracy: 0.9615 - val_loss: 0.1703 - val_accuracy: 0.9630\n",
            "Epoch 10/10\n",
            "18/18 [==============================] - 169s 9s/step - loss: 0.0927 - accuracy: 0.9689 - val_loss: 0.1599 - val_accuracy: 0.9630\n"
          ]
        }
      ]
    },
    {
      "cell_type": "code",
      "source": [
        "# Evaluate the model on the test data\n",
        "test_loss, test_acc = model.evaluate(test_data, verbose = 1)"
      ],
      "metadata": {
        "colab": {
          "base_uri": "https://localhost:8080/"
        },
        "id": "oAGYnfzz751s",
        "outputId": "9838af8e-8619-4630-983c-5c16bc79be26"
      },
      "execution_count": null,
      "outputs": [
        {
          "output_type": "stream",
          "name": "stdout",
          "text": [
            "681/681 [==============================] - 166s 243ms/step - loss: 0.0401 - accuracy: 0.9868\n"
          ]
        }
      ]
    },
    {
      "cell_type": "code",
      "source": [
        "# Print the test accuracy\n",
        "print(\"Test accuracy:\", test_acc)"
      ],
      "metadata": {
        "colab": {
          "base_uri": "https://localhost:8080/"
        },
        "id": "638yAuG176XD",
        "outputId": "9834aab6-ffd9-4da1-aa71-8233a186ef6b"
      },
      "execution_count": null,
      "outputs": [
        {
          "output_type": "stream",
          "name": "stdout",
          "text": [
            "Test accuracy: 0.9867841601371765\n"
          ]
        }
      ]
    },
    {
      "cell_type": "code",
      "source": [
        "# Save the model\n",
        "model.save(\"VGG16.h5\")"
      ],
      "metadata": {
        "id": "YcFVlHo38ASw"
      },
      "execution_count": null,
      "outputs": []
    },
    {
      "cell_type": "code",
      "source": [
        "from keras.preprocessing import image\n"
      ],
      "metadata": {
        "id": "I1EOhOgDHjxB"
      },
      "execution_count": null,
      "outputs": []
    },
    {
      "cell_type": "code",
      "source": [
        "# load the saved model\n",
        "model = keras.models.load_model('/content/VGG16.h5')\n",
        "\n",
        "# path to an image that you want to predict on\n",
        "img_path = '/content/15.jpg'\n",
        "\n",
        "from PIL import Image\n",
        "import numpy as np\n",
        "\n",
        "# load the image and preprocess it\n",
        "img = Image.open(img_path)\n",
        "img = img.resize((128, 128))\n",
        "x = np.array(img)\n",
        "x = np.expand_dims(x, axis=0)\n",
        "\n",
        "# make the prediction\n",
        "preds = model.predict(x)\n",
        "\n",
        "# get the predicted class label\n",
        "predicted_class = np.argmax(preds)\n",
        "\n",
        "# print the predicted class label\n",
        "if predicted_class == 0:\n",
        "    print('NORMAL')\n",
        "else:\n",
        "    print('POTHOLES')\n"
      ],
      "metadata": {
        "colab": {
          "base_uri": "https://localhost:8080/"
        },
        "id": "LGMiJL_rGxxp",
        "outputId": "50f58266-572b-4234-e65a-934b800da3a8"
      },
      "execution_count": null,
      "outputs": [
        {
          "output_type": "stream",
          "name": "stdout",
          "text": [
            "1/1 [==============================] - 0s 344ms/step\n",
            "NORMAL\n"
          ]
        }
      ]
    }
  ]
}